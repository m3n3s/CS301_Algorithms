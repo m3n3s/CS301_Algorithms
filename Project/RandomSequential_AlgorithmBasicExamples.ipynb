{
  "nbformat": 4,
  "nbformat_minor": 0,
  "metadata": {
    "colab": {
      "name": "RandomSequential AlgorithmBasicExamples.ipynb",
      "provenance": [],
      "collapsed_sections": []
    },
    "kernelspec": {
      "name": "python3",
      "display_name": "Python 3"
    }
  },
  "cells": [
    {
      "cell_type": "code",
      "metadata": {
        "id": "Beh3Ytx5C7G1"
      },
      "source": [
        "from collections import defaultdict\r\n",
        "import numpy as np\r\n",
        "import networkx as nx\r\n",
        "import networkx.algorithms.approximation as approx\r\n",
        "import networkx.algorithms.coloring as coloring\r\n",
        "#import pulp\r\n",
        "\r\n",
        "def clique_random_sequential(graph : nx.Graph) -> list:\r\n",
        "    graph = graph.copy()\r\n",
        "    clique_list = []\r\n",
        "    while len(graph.nodes())>0:\r\n",
        "        clique = []\r\n",
        "        node_list = list(graph.nodes())\r\n",
        "        np.random.permutation(node_list)\r\n",
        "        for node in node_list:\r\n",
        "            flag = True\r\n",
        "            for exist_node in clique:\r\n",
        "                if node not in graph[exist_node]:\r\n",
        "                    flag =False\r\n",
        "                    break\r\n",
        "            if flag:\r\n",
        "                clique.append(node)\r\n",
        "        graph.remove_nodes_from(clique)\r\n",
        "        clique_list.append(clique)\r\n",
        "    return clique_list\r\n"
      ],
      "execution_count": null,
      "outputs": []
    },
    {
      "cell_type": "markdown",
      "metadata": {
        "id": "6S_suetTLzPX"
      },
      "source": [
        "[Graph1](https://pasteboard.co/JLriTNa.png)\r\n"
      ]
    },
    {
      "cell_type": "code",
      "metadata": {
        "colab": {
          "base_uri": "https://localhost:8080/"
        },
        "id": "Iae1M6iuH3sL",
        "outputId": "a0e83dd9-8aef-461e-871b-e671bde4164f"
      },
      "source": [
        "#The graph in the introduction, the answer is 3\r\n",
        "G1 = nx.Graph()\r\n",
        "G1.add_nodes_from([1, 2, 3, 4, 5, 6, 7, 8])\r\n",
        "G1.add_edges_from([(1, 2), (1, 3), (1, 4), (2, 3),\r\n",
        "                  (2, 4), (3, 4), (4, 5), (5, 6), \r\n",
        "                  (6, 7), (6, 8),(7, 8), (1, 7)])\r\n",
        "nodes =  clique_random_sequential(G1)\r\n",
        "print(nodes)\r\n",
        "print(\"The clique cover number is: \", len(nodes))"
      ],
      "execution_count": null,
      "outputs": [
        {
          "output_type": "stream",
          "text": [
            "[[1, 2, 3, 4], [5, 6], [7, 8]]\n",
            "The clique cover number is:  3\n"
          ],
          "name": "stdout"
        }
      ]
    },
    {
      "cell_type": "code",
      "metadata": {
        "colab": {
          "base_uri": "https://localhost:8080/"
        },
        "id": "fHpa83REIwZ2",
        "outputId": "f28af590-bc7d-482d-a2bb-a978068bd96a"
      },
      "source": [
        "# K4, the answer is 1\r\n",
        "G2 = nx.Graph()\r\n",
        "G2.add_nodes_from([1, 2, 3, 4])\r\n",
        "G2.add_edges_from([(1, 2), (1, 3), (1, 4), \r\n",
        "                   (2, 3), (2, 4), (3,4)])\r\n",
        "nodes =  clique_random_sequential(G2)\r\n",
        "print(nodes)\r\n",
        "print(\"The clique cover number is: \", len(nodes))"
      ],
      "execution_count": null,
      "outputs": [
        {
          "output_type": "stream",
          "text": [
            "[[1, 2, 3, 4]]\n",
            "The clique cover number is:  1\n"
          ],
          "name": "stdout"
        }
      ]
    },
    {
      "cell_type": "markdown",
      "metadata": {
        "id": "kFRsFhEdLlPX"
      },
      "source": [
        "[Graph3](https://pasteboard.co/JLriokK.png)"
      ]
    },
    {
      "cell_type": "code",
      "metadata": {
        "id": "se_Hfa1jJb11",
        "colab": {
          "base_uri": "https://localhost:8080/"
        },
        "outputId": "d4c00c7f-0c16-44b0-eb1d-92237f5085fb"
      },
      "source": [
        "# Answer is 2 for the above graph\r\n",
        "G3 = nx.Graph()\r\n",
        "G3.add_nodes_from([0, 1, 2, 3, 4, 5])\r\n",
        "G3.add_edges_from([(0,2), (0, 4), (0, 5),\r\n",
        "                   (1, 4), (1, 5), (2, 3),\r\n",
        "                   (2, 4), (4, 5), (0, 1),\r\n",
        "                   (2, 5), (2, 1)])\r\n",
        "nodes =  clique_random_sequential(G3)\r\n",
        "print(nodes)\r\n",
        "print(\"The clique cover number is: \", len(nodes))"
      ],
      "execution_count": null,
      "outputs": [
        {
          "output_type": "stream",
          "text": [
            "[[0, 1, 2, 4, 5], [3]]\n",
            "The clique cover number is:  2\n"
          ],
          "name": "stdout"
        }
      ]
    },
    {
      "cell_type": "code",
      "metadata": {
        "colab": {
          "base_uri": "https://localhost:8080/"
        },
        "id": "Bt4qPM6iNP4I",
        "outputId": "e38e9e5e-e936-4982-cae8-e215da299d17"
      },
      "source": [
        "GX = nx.Graph()\r\n",
        "V = []\r\n",
        "E = []\r\n",
        "\r\n",
        "vertices = input(\"Enter vertices: \").split(\" \")\r\n",
        "i = 0\r\n",
        "while (i < len(vertices)):\r\n",
        "  V.append(int(vertices[i]))\r\n",
        "  i += 1\r\n",
        "\r\n",
        "edges = input(\"Enter edges: \").split(\" \")\r\n",
        "i = 0\r\n",
        "while (i < len(edges)): \r\n",
        "  E.append((int(edges[i]), int(edges[i+1])))\r\n",
        "  i += 2\r\n",
        "print (\"V: \", V)\r\n",
        "print (\"E: \" , E)\r\n",
        "\r\n",
        "GX.add_nodes_from(V)\r\n",
        "GX.add_edges_from(E)\r\n",
        "print (\"----------------------------\")\r\n",
        "nodes =  clique_random_sequential(GX)\r\n",
        "print (\"Partition: \", nodes)\r\n",
        "print(\"The clique cover number is: \", len(nodes))"
      ],
      "execution_count": null,
      "outputs": [
        {
          "output_type": "stream",
          "text": [
            "Enter vertices: 1 2 3 4 5 6\n",
            "Enter edges: 1 3 1 5 3 4 3 5 5 6\n",
            "V:  [1, 2, 3, 4, 5, 6]\n",
            "E:  [(1, 3), (1, 5), (3, 4), (3, 5), (5, 6)]\n",
            "----------------------------\n",
            "Partition:  [[1, 3, 5], [2], [4], [6]]\n",
            "The clique cover number is:  4\n"
          ],
          "name": "stdout"
        }
      ]
    }
  ]
}