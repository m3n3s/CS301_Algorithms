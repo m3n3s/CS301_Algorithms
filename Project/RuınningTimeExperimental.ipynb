{
  "nbformat": 4,
  "nbformat_minor": 0,
  "metadata": {
    "colab": {
      "name": "RuınningTimeExperimental.ipynb",
      "provenance": [],
      "collapsed_sections": []
    },
    "kernelspec": {
      "name": "python3",
      "display_name": "Python 3"
    }
  },
  "cells": [
    {
      "cell_type": "code",
      "metadata": {
        "id": "Beh3Ytx5C7G1"
      },
      "source": [
        "from collections import defaultdict\r\n",
        "import numpy as np\r\n",
        "import networkx as nx\r\n",
        "\r\n",
        "def clique_random_sequential(graph : nx.Graph) -> list:\r\n",
        "    graph = graph.copy()\r\n",
        "    clique_list = []\r\n",
        "    while len(graph.nodes())>0:\r\n",
        "        clique = []\r\n",
        "        node_list = list(graph.nodes())\r\n",
        "        np.random.permutation(node_list)\r\n",
        "        for node in node_list:\r\n",
        "            flag = True\r\n",
        "            for exist_node in clique:\r\n",
        "                if node not in graph[exist_node]:\r\n",
        "                    flag =False\r\n",
        "                    break\r\n",
        "            if flag:\r\n",
        "                clique.append(node)\r\n",
        "        graph.remove_nodes_from(clique)\r\n",
        "        clique_list.append(clique)\r\n",
        "    return clique_list\r\n"
      ],
      "execution_count": null,
      "outputs": []
    },
    {
      "cell_type": "code",
      "metadata": {
        "colab": {
          "base_uri": "https://localhost:8080/",
          "height": 377
        },
        "id": "Bt4qPM6iNP4I",
        "outputId": "19ec8495-3185-4504-9421-9f56b852aa8f"
      },
      "source": [
        "import networkx.drawing.nx_pylab as vis\r\n",
        "GX = nx.Graph()\r\n",
        "V = []\r\n",
        "E = []\r\n",
        "\r\n",
        "vertices = input(\"Enter vertices: \").split(\" \")\r\n",
        "i = 0\r\n",
        "while (i < len(vertices)):\r\n",
        "  V.append(int(vertices[i]))\r\n",
        "  i += 1\r\n",
        "\r\n",
        "edges = input(\"Enter edges: \").split(\" \")\r\n",
        "i = 0\r\n",
        "while (i < len(edges)): \r\n",
        "  E.append((int(edges[i]), int(edges[i+1])))\r\n",
        "  i += 2\r\n",
        "print (\"V: \", V)\r\n",
        "print (\"E: \" , E)\r\n",
        "\r\n",
        "GX.add_nodes_from(V)\r\n",
        "GX.add_edges_from(E)\r\n",
        "print (\"----------------------------\")\r\n",
        "nodes =  clique_random_sequential(GX)\r\n",
        "print (\"Partition: \", nodes)\r\n",
        "print(\"The clique cover number is: \", len(nodes))\r\n",
        "\r\n",
        "vis.draw_networkx(GX, with_labels=True, node_size=1200, node_color=\"#FF0000\" )\r\n"
      ],
      "execution_count": null,
      "outputs": [
        {
          "output_type": "stream",
          "text": [
            "Enter vertices: 1 2 3 4 5 6\n",
            "Enter edges: 1 3 1 5 1 6 2 5 2 6 3 4 3 5 5 6\n",
            "V:  [1, 2, 3, 4, 5, 6]\n",
            "E:  [(1, 3), (1, 5), (1, 6), (2, 5), (2, 6), (3, 4), (3, 5), (5, 6)]\n",
            "----------------------------\n",
            "Partition:  [[1, 3, 5], [2, 6], [4]]\n",
            "The clique cover number is:  3\n"
          ],
          "name": "stdout"
        },
        {
          "output_type": "display_data",
          "data": {
            "image/png": "[encoded data removed]",
            "text/plain": [
              "<Figure size 432x288 with 1 Axes>"
            ]
          },
          "metadata": {
            "tags": []
          }
        }
      ]
    },
    {
      "cell_type": "code",
      "metadata": {
        "colab": {
          "base_uri": "https://localhost:8080/"
        },
        "id": "xF7nIBR2Q_Gy",
        "outputId": "d0f0293b-1e4c-4043-a3e8-017b7375a022"
      },
      "source": [
        "#Random Graph Generation\r\n",
        "import networkx.generators.random_graphs as randomG\r\n",
        "G = randomG.fast_gnp_random_graph(5,0.5, seed = None, directed = False)\r\n",
        "print(G.nodes())\r\n",
        "print(G.edges())"
      ],
      "execution_count": null,
      "outputs": [
        {
          "output_type": "stream",
          "text": [
            "[0, 1, 2, 3, 4]\n",
            "[(0, 1), (0, 4), (2, 3), (2, 4), (3, 4)]\n"
          ],
          "name": "stdout"
        }
      ]
    },
    {
      "cell_type": "code",
      "metadata": {
        "colab": {
          "base_uri": "https://localhost:8080/"
        },
        "id": "TKVa8Vy1As1U",
        "outputId": "08c02241-58dd-438e-d3dc-b7c16bb766a6"
      },
      "source": [
        "#Another Random Graph Generation\r\n",
        "G = randomG.gnm_random_graph(1000,1000,seed = None, directed = False )\r\n",
        "print (len(G.nodes()))\r\n",
        "print (len(G.edges()))"
      ],
      "execution_count": null,
      "outputs": [
        {
          "output_type": "stream",
          "text": [
            "1000\n",
            "1000\n"
          ],
          "name": "stdout"
        }
      ]
    },
    {
      "cell_type": "code",
      "metadata": {
        "colab": {
          "base_uri": "https://localhost:8080/"
        },
        "id": "N6fGVZMt8_ij",
        "outputId": "ccc66539-5173-4b41-c41b-fbfce7238c97"
      },
      "source": [
        "#a case\r\n",
        "import time \r\n",
        "\r\n",
        "G1000 = randomG.fast_gnp_random_graph(2000,0.9, seed = None, directed = False)\r\n",
        "x = time.perf_counter()\r\n",
        "nodes =  clique_random_sequential(G1000)\r\n",
        "y = time.perf_counter()\r\n",
        "print(y-x, \" V: \" , len(G1000.nodes()), \" E: \", len(G1000.edges()))\r\n",
        "\r\n",
        "#print (\"Partition: \", nodes)\r\n",
        "print(\"The clique cover number is: \", len(nodes))\r\n",
        "\r\n"
      ],
      "execution_count": null,
      "outputs": [
        {
          "output_type": "stream",
          "text": [
            "10.271835350000174  V:  2000  E:  1799469\n",
            "The clique cover number is:  53\n"
          ],
          "name": "stdout"
        }
      ]
    },
    {
      "cell_type": "code",
      "metadata": {
        "colab": {
          "base_uri": "https://localhost:8080/"
        },
        "id": "ROKh5f1wBKmC",
        "outputId": "c21ee90f-cde9-495f-99de-5f2fa3d67c26"
      },
      "source": [
        "#another case\r\n",
        "import time \r\n",
        "\r\n",
        "GV3E5 = randomG.gnm_random_graph(2000,1800000,seed = None, directed = False )\r\n",
        "x = time.perf_counter()\r\n",
        "nodes =  clique_random_sequential(GV3E5)\r\n",
        "y = time.perf_counter()\r\n",
        "print(y-x, \" V: \" , len(GV3E5.nodes()), \" E: \", len(GV3E5.edges()))\r\n",
        "\r\n",
        "#print (\"Partition: \", nodes)\r\n",
        "print(\"The clique cover number is: \", len(nodes))\r\n",
        "\r\n"
      ],
      "execution_count": null,
      "outputs": [
        {
          "output_type": "stream",
          "text": [
            "10.214323913000044  V:  2000  E:  1800000\n",
            "The clique cover number is:  51\n"
          ],
          "name": "stdout"
        }
      ]
    },
    {
      "cell_type": "code",
      "metadata": {
        "id": "-RU5hTk0T30i"
      },
      "source": [
        "import pandas as pd\r\n",
        "import matplotlib.pyplot as plt\r\n",
        "import matplotlib.patches as mpatches\r\n",
        "import seaborn as sns\r\n",
        "from os.path import join\r\n",
        "import matplotlib.image as mpimg\r\n",
        "from shapely import wkt\r\n",
        "%matplotlib inline\r\n",
        "sns.set_style(\"whitegrid\")\r\n",
        "plt.style.use(\"fivethirtyeight\")"
      ],
      "execution_count": null,
      "outputs": []
    },
    {
      "cell_type": "markdown",
      "metadata": {
        "id": "rupzA5L7DRh0"
      },
      "source": [
        "Performance for\r\n",
        "                \r\n",
        "               E = 100, V = 100...200...1000\r\n",
        "\r\n",
        "               V = 100, E = 100...200...1000\r\n",
        "                       \r\n",
        "              \r\n",
        "Iterations: Done: 100, Undone :300, 500, 1000\r\n",
        "               "
      ]
    },
    {
      "cell_type": "code",
      "metadata": {
        "colab": {
          "base_uri": "https://localhost:8080/",
          "height": 49
        },
        "id": "ZFj2N3W3UtnK",
        "outputId": "bd8b93a0-f242-4554-a394-44f787b0703b"
      },
      "source": [
        "#Runtime Table\r\n",
        "table_x_100 = {'Size(V)': [], 'MeanTime(ms)': [], 'Standard Deviation': []\r\n",
        "     , 'Standard Error': [],  '%90-CL': [], '%95-CL': []}\r\n",
        "df_x_100 = pd.DataFrame(data=table_x_100)\r\n",
        "\r\n",
        "df_x_100.head()"
      ],
      "execution_count": null,
      "outputs": [
        {
          "output_type": "execute_result",
          "data": {
            "text/html": [
              "<div>\n",
              "<style scoped>\n",
              "    .dataframe tbody tr th:only-of-type {\n",
              "        vertical-align: middle;\n",
              "    }\n",
              "\n",
              "    .dataframe tbody tr th {\n",
              "        vertical-align: top;\n",
              "    }\n",
              "\n",
              "    .dataframe thead th {\n",
              "        text-align: right;\n",
              "    }\n",
              "</style>\n",
              "<table border=\"1\" class=\"dataframe\">\n",
              "  <thead>\n",
              "    <tr style=\"text-align: right;\">\n",
              "      <th></th>\n",
              "      <th>Size(V)</th>\n",
              "      <th>MeanTime(ms)</th>\n",
              "      <th>Standard Deviation</th>\n",
              "      <th>Standard Error</th>\n",
              "      <th>%90-CL</th>\n",
              "      <th>%95-CL</th>\n",
              "    </tr>\n",
              "  </thead>\n",
              "  <tbody>\n",
              "  </tbody>\n",
              "</table>\n",
              "</div>"
            ],
            "text/plain": [
              "Empty DataFrame\n",
              "Columns: [Size(V), MeanTime(ms), Standard Deviation, Standard Error, %90-CL, %95-CL]\n",
              "Index: []"
            ]
          },
          "metadata": {
            "tags": []
          },
          "execution_count": 99
        }
      ]
    },
    {
      "cell_type": "code",
      "metadata": {
        "colab": {
          "base_uri": "https://localhost:8080/",
          "height": 462
        },
        "id": "XxxwZvfQDINK",
        "outputId": "50c632a1-b81e-4fdc-d617-afa105a77dbd"
      },
      "source": [
        "import networkx.generators.random_graphs as randomG\r\n",
        "import time\r\n",
        "\r\n",
        "tval90 = 1.645\r\n",
        "tval95 = 1.96\r\n",
        "iteration = 100\r\n",
        "edge_size = 100\r\n",
        "\r\n",
        "vertex_sizes = [100,200,300,500,700,1000]\r\n",
        "i = 1\r\n",
        "for vertex_size in vertex_sizes:\r\n",
        "  flag = True\r\n",
        "  time_list = []\r\n",
        "  for num in range(iteration):\r\n",
        "    p1 = time.perf_counter() \r\n",
        "    G = randomG.gnm_random_graph(vertex_size,edge_size,seed = None, directed = False)\r\n",
        "    start = time.perf_counter()\r\n",
        "    clique_random_sequential(G)\r\n",
        "    end = time.perf_counter()\r\n",
        "    if (flag):\r\n",
        "      print(\"Time for \", vertex_size, \" is \", end-start)\r\n",
        "      flag = False\r\n",
        "    time_list.append(end-start)\r\n",
        "\r\n",
        "  std = np.std(time_list)\r\n",
        "  mean = np.mean(time_list)\r\n",
        "  stderr = std / np.sqrt(iteration)\r\n",
        "\r\n",
        "  uppermean90 = mean + (stderr * tval90)\r\n",
        "  lowermean90 = mean - (stderr * tval90)\r\n",
        "  CL90 = str(lowermean90)[0:8] + \"-\" + str(uppermean90)[0:8]\r\n",
        "\r\n",
        "  uppermean95 = mean + (stderr * tval95)\r\n",
        "  lowermean95 = mean - (stderr * tval95)\r\n",
        "  CL95 = str(lowermean95)[0:8] + \"-\" + str(uppermean95)[0:8]\r\n",
        "\r\n",
        "  df_x_100.loc[i] = pd.Series(data = (int(vertex_size), mean, std, stderr, CL90, CL95), index = table_x_100, name = i)\r\n",
        "  p2 = time.perf_counter() \r\n",
        "  print(\"For vertex: \", vertex_size, \": \",i, \" is DONE!, total time: \", (p2-p1)*100)\r\n",
        "  i += 1\r\n",
        "  \r\n",
        "df_x_100.head(6)"
      ],
      "execution_count": null,
      "outputs": [
        {
          "output_type": "stream",
          "text": [
            "Time for  100  is  0.0076720569995814\n",
            "For vertex:  100 :  1  is DONE!, total time:  1.089871200019843\n",
            "Time for  200  is  0.027302178999889293\n",
            "For vertex:  200 :  2  is DONE!, total time:  2.9351868000958348\n",
            "Time for  300  is  0.061981549000847735\n",
            "For vertex:  300 :  3  is DONE!, total time:  6.849552699895867\n",
            "Time for  500  is  0.1982044849992235\n",
            "For vertex:  500 :  4  is DONE!, total time:  18.738745900009235\n",
            "Time for  700  is  0.39414220199978445\n",
            "For vertex:  700 :  5  is DONE!, total time:  41.99098480003158\n",
            "Time for  1000  is  0.9001527399996121\n",
            "For vertex:  1000 :  6  is DONE!, total time:  82.76692030012782\n"
          ],
          "name": "stdout"
        },
        {
          "output_type": "execute_result",
          "data": {
            "text/html": [
              "<div>\n",
              "<style scoped>\n",
              "    .dataframe tbody tr th:only-of-type {\n",
              "        vertical-align: middle;\n",
              "    }\n",
              "\n",
              "    .dataframe tbody tr th {\n",
              "        vertical-align: top;\n",
              "    }\n",
              "\n",
              "    .dataframe thead th {\n",
              "        text-align: right;\n",
              "    }\n",
              "</style>\n",
              "<table border=\"1\" class=\"dataframe\">\n",
              "  <thead>\n",
              "    <tr style=\"text-align: right;\">\n",
              "      <th></th>\n",
              "      <th>Size(V)</th>\n",
              "      <th>MeanTime(ms)</th>\n",
              "      <th>Standard Deviation</th>\n",
              "      <th>Standard Error</th>\n",
              "      <th>%90-CL</th>\n",
              "      <th>%95-CL</th>\n",
              "    </tr>\n",
              "  </thead>\n",
              "  <tbody>\n",
              "    <tr>\n",
              "      <th>1</th>\n",
              "      <td>100.0</td>\n",
              "      <td>0.006900</td>\n",
              "      <td>0.000883</td>\n",
              "      <td>0.000088</td>\n",
              "      <td>0.006755-0.007045</td>\n",
              "      <td>0.006727-0.007073</td>\n",
              "    </tr>\n",
              "    <tr>\n",
              "      <th>2</th>\n",
              "      <td>200.0</td>\n",
              "      <td>0.028533</td>\n",
              "      <td>0.002335</td>\n",
              "      <td>0.000234</td>\n",
              "      <td>0.028149-0.028917</td>\n",
              "      <td>0.028075-0.028991</td>\n",
              "    </tr>\n",
              "    <tr>\n",
              "      <th>3</th>\n",
              "      <td>300.0</td>\n",
              "      <td>0.065714</td>\n",
              "      <td>0.002932</td>\n",
              "      <td>0.000293</td>\n",
              "      <td>0.065231-0.066196</td>\n",
              "      <td>0.065139-0.066288</td>\n",
              "    </tr>\n",
              "    <tr>\n",
              "      <th>4</th>\n",
              "      <td>500.0</td>\n",
              "      <td>0.195000</td>\n",
              "      <td>0.007943</td>\n",
              "      <td>0.000794</td>\n",
              "      <td>0.193693-0.196306</td>\n",
              "      <td>0.193443-0.196557</td>\n",
              "    </tr>\n",
              "    <tr>\n",
              "      <th>5</th>\n",
              "      <td>700.0</td>\n",
              "      <td>0.402624</td>\n",
              "      <td>0.013087</td>\n",
              "      <td>0.001309</td>\n",
              "      <td>0.400470-0.404776</td>\n",
              "      <td>0.400058-0.405188</td>\n",
              "    </tr>\n",
              "    <tr>\n",
              "      <th>6</th>\n",
              "      <td>1000.0</td>\n",
              "      <td>0.842317</td>\n",
              "      <td>0.020355</td>\n",
              "      <td>0.002035</td>\n",
              "      <td>0.838968-0.845665</td>\n",
              "      <td>0.838327-0.846306</td>\n",
              "    </tr>\n",
              "  </tbody>\n",
              "</table>\n",
              "</div>"
            ],
            "text/plain": [
              "   Size(V)  MeanTime(ms)  ...             %90-CL             %95-CL\n",
              "1    100.0      0.006900  ...  0.006755-0.007045  0.006727-0.007073\n",
              "2    200.0      0.028533  ...  0.028149-0.028917  0.028075-0.028991\n",
              "3    300.0      0.065714  ...  0.065231-0.066196  0.065139-0.066288\n",
              "4    500.0      0.195000  ...  0.193693-0.196306  0.193443-0.196557\n",
              "5    700.0      0.402624  ...  0.400470-0.404776  0.400058-0.405188\n",
              "6   1000.0      0.842317  ...  0.838968-0.845665  0.838327-0.846306\n",
              "\n",
              "[6 rows x 6 columns]"
            ]
          },
          "metadata": {
            "tags": []
          },
          "execution_count": 145
        }
      ]
    },
    {
      "cell_type": "markdown",
      "metadata": {
        "id": "00yKxuf4bfnI"
      },
      "source": [
        "V = 100"
      ]
    },
    {
      "cell_type": "code",
      "metadata": {
        "colab": {
          "base_uri": "https://localhost:8080/",
          "height": 49
        },
        "id": "6Nnm_z6ibceI",
        "outputId": "0f05b94e-b31f-4c99-fc5a-855dd4e207ef"
      },
      "source": [
        "#Runtime Table\r\n",
        "table_100_x = {'Size(E)': [], 'MeanTime(ms)': [], 'Standard Deviation': []\r\n",
        "     , 'Standard Error': [],  '%90-CL': [], '%95-CL': []}\r\n",
        "df_100_x = pd.DataFrame(data=table_100_x)\r\n",
        "\r\n",
        "df_100_x.head()"
      ],
      "execution_count": null,
      "outputs": [
        {
          "output_type": "execute_result",
          "data": {
            "text/html": [
              "<div>\n",
              "<style scoped>\n",
              "    .dataframe tbody tr th:only-of-type {\n",
              "        vertical-align: middle;\n",
              "    }\n",
              "\n",
              "    .dataframe tbody tr th {\n",
              "        vertical-align: top;\n",
              "    }\n",
              "\n",
              "    .dataframe thead th {\n",
              "        text-align: right;\n",
              "    }\n",
              "</style>\n",
              "<table border=\"1\" class=\"dataframe\">\n",
              "  <thead>\n",
              "    <tr style=\"text-align: right;\">\n",
              "      <th></th>\n",
              "      <th>Size(E)</th>\n",
              "      <th>MeanTime(ms)</th>\n",
              "      <th>Standard Deviation</th>\n",
              "      <th>Standard Error</th>\n",
              "      <th>%90-CL</th>\n",
              "      <th>%95-CL</th>\n",
              "    </tr>\n",
              "  </thead>\n",
              "  <tbody>\n",
              "  </tbody>\n",
              "</table>\n",
              "</div>"
            ],
            "text/plain": [
              "Empty DataFrame\n",
              "Columns: [Size(E), MeanTime(ms), Standard Deviation, Standard Error, %90-CL, %95-CL]\n",
              "Index: []"
            ]
          },
          "metadata": {
            "tags": []
          },
          "execution_count": 124
        }
      ]
    },
    {
      "cell_type": "code",
      "metadata": {
        "colab": {
          "base_uri": "https://localhost:8080/",
          "height": 462
        },
        "id": "kePRQJyGbzBO",
        "outputId": "12400d12-77eb-42b5-e275-18ed83984763"
      },
      "source": [
        "iteration = 100\r\n",
        "vertex_size = 100\r\n",
        "\r\n",
        "edge_sizes = [100,500,1000,2000,3000,4000]\r\n",
        "i = 1\r\n",
        "for edge_size in edge_sizes:\r\n",
        "  flag = True\r\n",
        "  time_list = []\r\n",
        "  for num in range(iteration):\r\n",
        "    p1 = time.perf_counter()\r\n",
        "    G = randomG.gnm_random_graph(vertex_size,edge_size,seed = None, directed = False)\r\n",
        "    start = time.perf_counter()\r\n",
        "    clique_random_sequential(G)\r\n",
        "    end = time.perf_counter()\r\n",
        "    if (flag):\r\n",
        "      print(\"Time for \", edge_size, \" is \", end-start)\r\n",
        "      flag = False\r\n",
        "    time_list.append(end-start)\r\n",
        "\r\n",
        "  std = np.std(time_list)\r\n",
        "  mean = np.mean(time_list)\r\n",
        "  stderr = std / np.sqrt(iteration)\r\n",
        "\r\n",
        "  uppermean90 = mean + (stderr * tval90)\r\n",
        "  lowermean90 = mean - (stderr * tval90)\r\n",
        "  CL90 = str(lowermean90)[0:8] + \"-\" + str(uppermean90)[0:8]\r\n",
        "\r\n",
        "  uppermean95 = mean + (stderr * tval95)\r\n",
        "  lowermean95 = mean - (stderr * tval95)\r\n",
        "  CL95 = str(lowermean95)[0:8] + \"-\" + str(uppermean95)[0:8]\r\n",
        "\r\n",
        "  df_100_x.loc[i] = pd.Series(data = (edge_size, mean, std, stderr, CL90, CL95), index = table_100_x, name = i)\r\n",
        "  p2 = time.perf_counter() \r\n",
        "  print(\"For edge \", edge_size, \": \",i, \" is DONE!, total time: \", (p2-p1)*100)\r\n",
        "  i += 1\r\n",
        "  \r\n",
        "df_100_x.head(6)"
      ],
      "execution_count": null,
      "outputs": [
        {
          "output_type": "stream",
          "text": [
            "Time for  100  is  0.006615479000174673\n",
            "For edge  100 :  1  is DONE!, total time:  1.2685031000728486\n",
            "Time for  500  is  0.007867330999943078\n",
            "For edge  500 :  2  is DONE!, total time:  1.177546400049323\n",
            "Time for  1000  is  0.008422412000072654\n",
            "For edge  1000 :  3  is DONE!, total time:  1.1285483999927237\n",
            "Time for  2000  is  0.010206455999650643\n",
            "For edge  2000 :  4  is DONE!, total time:  1.6764466000495304\n",
            "Time for  3000  is  0.011877053000716842\n",
            "For edge  3000 :  5  is DONE!, total time:  2.598089299954154\n",
            "Time for  4000  is  0.014840980000371928\n",
            "For edge  4000 :  6  is DONE!, total time:  3.3379297999999835\n"
          ],
          "name": "stdout"
        },
        {
          "output_type": "execute_result",
          "data": {
            "text/html": [
              "<div>\n",
              "<style scoped>\n",
              "    .dataframe tbody tr th:only-of-type {\n",
              "        vertical-align: middle;\n",
              "    }\n",
              "\n",
              "    .dataframe tbody tr th {\n",
              "        vertical-align: top;\n",
              "    }\n",
              "\n",
              "    .dataframe thead th {\n",
              "        text-align: right;\n",
              "    }\n",
              "</style>\n",
              "<table border=\"1\" class=\"dataframe\">\n",
              "  <thead>\n",
              "    <tr style=\"text-align: right;\">\n",
              "      <th></th>\n",
              "      <th>Size(E)</th>\n",
              "      <th>MeanTime(ms)</th>\n",
              "      <th>Standard Deviation</th>\n",
              "      <th>Standard Error</th>\n",
              "      <th>%90-CL</th>\n",
              "      <th>%95-CL</th>\n",
              "    </tr>\n",
              "  </thead>\n",
              "  <tbody>\n",
              "    <tr>\n",
              "      <th>1</th>\n",
              "      <td>100.0</td>\n",
              "      <td>0.009352</td>\n",
              "      <td>0.000646</td>\n",
              "      <td>0.000065</td>\n",
              "      <td>0.009245-0.009458</td>\n",
              "      <td>0.009225-0.009478</td>\n",
              "    </tr>\n",
              "    <tr>\n",
              "      <th>2</th>\n",
              "      <td>500.0</td>\n",
              "      <td>0.007972</td>\n",
              "      <td>0.000530</td>\n",
              "      <td>0.000053</td>\n",
              "      <td>0.007885-0.008059</td>\n",
              "      <td>0.007868-0.008076</td>\n",
              "    </tr>\n",
              "    <tr>\n",
              "      <th>3</th>\n",
              "      <td>1000.0</td>\n",
              "      <td>0.007461</td>\n",
              "      <td>0.001255</td>\n",
              "      <td>0.000125</td>\n",
              "      <td>0.007254-0.007667</td>\n",
              "      <td>0.007214-0.007706</td>\n",
              "    </tr>\n",
              "    <tr>\n",
              "      <th>4</th>\n",
              "      <td>2000.0</td>\n",
              "      <td>0.008903</td>\n",
              "      <td>0.000959</td>\n",
              "      <td>0.000096</td>\n",
              "      <td>0.008744-0.009060</td>\n",
              "      <td>0.008714-0.009090</td>\n",
              "    </tr>\n",
              "    <tr>\n",
              "      <th>5</th>\n",
              "      <td>3000.0</td>\n",
              "      <td>0.011357</td>\n",
              "      <td>0.001144</td>\n",
              "      <td>0.000114</td>\n",
              "      <td>0.011168-0.011545</td>\n",
              "      <td>0.011132-0.011581</td>\n",
              "    </tr>\n",
              "    <tr>\n",
              "      <th>6</th>\n",
              "      <td>4000.0</td>\n",
              "      <td>0.014115</td>\n",
              "      <td>0.001374</td>\n",
              "      <td>0.000137</td>\n",
              "      <td>0.013888-0.014340</td>\n",
              "      <td>0.013845-0.014384</td>\n",
              "    </tr>\n",
              "  </tbody>\n",
              "</table>\n",
              "</div>"
            ],
            "text/plain": [
              "   Size(E)  MeanTime(ms)  ...             %90-CL             %95-CL\n",
              "1    100.0      0.009352  ...  0.009245-0.009458  0.009225-0.009478\n",
              "2    500.0      0.007972  ...  0.007885-0.008059  0.007868-0.008076\n",
              "3   1000.0      0.007461  ...  0.007254-0.007667  0.007214-0.007706\n",
              "4   2000.0      0.008903  ...  0.008744-0.009060  0.008714-0.009090\n",
              "5   3000.0      0.011357  ...  0.011168-0.011545  0.011132-0.011581\n",
              "6   4000.0      0.014115  ...  0.013888-0.014340  0.013845-0.014384\n",
              "\n",
              "[6 rows x 6 columns]"
            ]
          },
          "metadata": {
            "tags": []
          },
          "execution_count": 132
        }
      ]
    },
    {
      "cell_type": "markdown",
      "metadata": {
        "id": "3cOJOWbTfFsl"
      },
      "source": [
        "V = 100, 300, 500, 1000\r\n",
        "density = 0.1, 0.25, 0.5, 0.75, 1"
      ]
    },
    {
      "cell_type": "code",
      "metadata": {
        "colab": {
          "base_uri": "https://localhost:8080/",
          "height": 49
        },
        "id": "5gyepCTAfFB5",
        "outputId": "5a4880d9-13e7-4a37-96e3-4ee9d57b8dfb"
      },
      "source": [
        "#Runtime Table\r\n",
        "table_v_p = {'Size(V)': [], 'Density': [], 'MeanTime(ms)': [], 'Standard Deviation': []\r\n",
        "     , 'Standard Error': [],  '%90-CL': [], '%95-CL': []}\r\n",
        "df_v_p = pd.DataFrame(data=table_v_p)\r\n",
        "\r\n",
        "df_v_p.head()"
      ],
      "execution_count": null,
      "outputs": [
        {
          "output_type": "execute_result",
          "data": {
            "text/html": [
              "<div>\n",
              "<style scoped>\n",
              "    .dataframe tbody tr th:only-of-type {\n",
              "        vertical-align: middle;\n",
              "    }\n",
              "\n",
              "    .dataframe tbody tr th {\n",
              "        vertical-align: top;\n",
              "    }\n",
              "\n",
              "    .dataframe thead th {\n",
              "        text-align: right;\n",
              "    }\n",
              "</style>\n",
              "<table border=\"1\" class=\"dataframe\">\n",
              "  <thead>\n",
              "    <tr style=\"text-align: right;\">\n",
              "      <th></th>\n",
              "      <th>Size(V)</th>\n",
              "      <th>Density</th>\n",
              "      <th>MeanTime(ms)</th>\n",
              "      <th>Standard Deviation</th>\n",
              "      <th>Standard Error</th>\n",
              "      <th>%90-CL</th>\n",
              "      <th>%95-CL</th>\n",
              "    </tr>\n",
              "  </thead>\n",
              "  <tbody>\n",
              "  </tbody>\n",
              "</table>\n",
              "</div>"
            ],
            "text/plain": [
              "Empty DataFrame\n",
              "Columns: [Size(V), Density, MeanTime(ms), Standard Deviation, Standard Error, %90-CL, %95-CL]\n",
              "Index: []"
            ]
          },
          "metadata": {
            "tags": []
          },
          "execution_count": 140
        }
      ]
    },
    {
      "cell_type": "code",
      "metadata": {
        "colab": {
          "base_uri": "https://localhost:8080/",
          "height": 1000
        },
        "id": "U0GQZKWyfomE",
        "outputId": "b6d3a5e6-a580-4c5f-e1f2-ab292a28cd2b"
      },
      "source": [
        "iteration = 100\r\n",
        "vertex_sizes = [100, 300, 500, 1000]\r\n",
        "densities = [0.1, 0.25, 0.5, 0.75, 1]\r\n",
        "\r\n",
        "i = 1\r\n",
        "for vertex_size in vertex_sizes:\r\n",
        "  for density in densities:\r\n",
        "    flag = True\r\n",
        "    time_list = []\r\n",
        "    for num in range(iteration):\r\n",
        "      p1 = time.perf_counter()\r\n",
        "      G = randomG.fast_gnp_random_graph(vertex_size,density, seed = None, directed = False)\r\n",
        "      start = time.perf_counter()\r\n",
        "      clique_random_sequential(G)\r\n",
        "      end = time.perf_counter()\r\n",
        "      if (flag):\r\n",
        "        print(\"Time for \", density, \" is \", end-start)\r\n",
        "        flag = False\r\n",
        "      time_list.append(end-start)\r\n",
        "\r\n",
        "    std = np.std(time_list)\r\n",
        "    mean = np.mean(time_list)\r\n",
        "    stderr = std / np.sqrt(iteration)\r\n",
        "\r\n",
        "    uppermean90 = mean + (stderr * tval90)\r\n",
        "    lowermean90 = mean - (stderr * tval90)\r\n",
        "    CL90 = str(lowermean90)[0:8] + \"-\" + str(uppermean90)[0:8]\r\n",
        "\r\n",
        "    uppermean95 = mean + (stderr * tval95)\r\n",
        "    lowermean95 = mean - (stderr * tval95)\r\n",
        "    CL95 = str(lowermean95)[0:8] + \"-\" + str(uppermean95)[0:8]\r\n",
        "\r\n",
        "    df_v_p.loc[i] = pd.Series(data = (vertex_size, density, mean, std, stderr, CL90, CL95), index = table_v_p, name = i)\r\n",
        "    p2 = time.perf_counter() \r\n",
        "    print(\"For vertex \", vertex_size, \" and density \", density , \": DONE!, total time: \", (p2-p1)*100)\r\n",
        "    i += 1\r\n",
        "  \r\n",
        "df_v_p.head(20)"
      ],
      "execution_count": null,
      "outputs": [
        {
          "output_type": "stream",
          "text": [
            "Time for  0.1  is  0.006758890000128304\n",
            "For vertex  100  and density  0.1 : DONE!, total time:  1.5464195999811636\n",
            "Time for  0.25  is  0.008594113999606634\n",
            "For vertex  100  and density  0.25 : DONE!, total time:  1.4492301999780466\n",
            "Time for  0.5  is  0.009732202999657602\n",
            "For vertex  100  and density  0.5 : DONE!, total time:  1.8707025999901816\n",
            "Time for  0.75  is  0.013873446999241423\n",
            "For vertex  100  and density  0.75 : DONE!, total time:  2.4192615000174555\n",
            "Time for  1  is  0.021797686000354588\n",
            "For vertex  100  and density  1 : DONE!, total time:  3.403691399944364\n",
            "Time for  0.1  is  0.045935878000818775\n",
            "For vertex  300  and density  0.1 : DONE!, total time:  6.315077299950644\n",
            "Time for  0.25  is  0.07888637799987919\n",
            "For vertex  300  and density  0.25 : DONE!, total time:  9.827106400007324\n",
            "Time for  0.5  is  0.10088732300027914\n",
            "For vertex  300  and density  0.5 : DONE!, total time:  12.984384999981557\n",
            "Time for  0.75  is  0.12873773999945115\n",
            "For vertex  300  and density  0.75 : DONE!, total time:  17.855201000020315\n",
            "Time for  1  is  0.19855646300038643\n",
            "For vertex  300  and density  1 : DONE!, total time:  25.9991662000175\n",
            "Time for  0.1  is  0.12619326500043826\n",
            "For vertex  500  and density  0.1 : DONE!, total time:  15.0260487000196\n",
            "Time for  0.25  is  0.1696259939999436\n",
            "For vertex  500  and density  0.25 : DONE!, total time:  22.2460384000442\n",
            "Time for  0.5  is  0.272931150999284\n",
            "For vertex  500  and density  0.5 : DONE!, total time:  39.26236980005342\n",
            "Time for  0.75  is  0.3659930230005557\n",
            "For vertex  500  and density  0.75 : DONE!, total time:  52.801428900056635\n",
            "Time for  1  is  0.6187947689995781\n",
            "For vertex  500  and density  1 : DONE!, total time:  73.90916149997793\n",
            "Time for  0.1  is  0.4818698710005265\n",
            "For vertex  1000  and density  0.1 : DONE!, total time:  61.67174149995844\n",
            "Time for  0.25  is  0.7760246990001178\n",
            "For vertex  1000  and density  0.25 : DONE!, total time:  93.22879990013462\n",
            "Time for  0.5  is  1.069754386000568\n",
            "For vertex  1000  and density  0.5 : DONE!, total time:  152.9645533000803\n",
            "Time for  0.75  is  1.5288992179994239\n",
            "For vertex  1000  and density  0.75 : DONE!, total time:  219.42494930008252\n",
            "Time for  1  is  2.4609842250010843\n",
            "For vertex  1000  and density  1 : DONE!, total time:  329.75110079987644\n"
          ],
          "name": "stdout"
        },
        {
          "output_type": "execute_result",
          "data": {
            "text/html": [
              "<div>\n",
              "<style scoped>\n",
              "    .dataframe tbody tr th:only-of-type {\n",
              "        vertical-align: middle;\n",
              "    }\n",
              "\n",
              "    .dataframe tbody tr th {\n",
              "        vertical-align: top;\n",
              "    }\n",
              "\n",
              "    .dataframe thead th {\n",
              "        text-align: right;\n",
              "    }\n",
              "</style>\n",
              "<table border=\"1\" class=\"dataframe\">\n",
              "  <thead>\n",
              "    <tr style=\"text-align: right;\">\n",
              "      <th></th>\n",
              "      <th>Size(V)</th>\n",
              "      <th>Density</th>\n",
              "      <th>MeanTime(ms)</th>\n",
              "      <th>Standard Deviation</th>\n",
              "      <th>Standard Error</th>\n",
              "      <th>%90-CL</th>\n",
              "      <th>%95-CL</th>\n",
              "    </tr>\n",
              "  </thead>\n",
              "  <tbody>\n",
              "    <tr>\n",
              "      <th>1</th>\n",
              "      <td>100.0</td>\n",
              "      <td>0.10</td>\n",
              "      <td>0.007680</td>\n",
              "      <td>0.000957</td>\n",
              "      <td>0.000096</td>\n",
              "      <td>0.007522-0.007837</td>\n",
              "      <td>0.007492-0.007867</td>\n",
              "    </tr>\n",
              "    <tr>\n",
              "      <th>2</th>\n",
              "      <td>100.0</td>\n",
              "      <td>0.25</td>\n",
              "      <td>0.007891</td>\n",
              "      <td>0.001110</td>\n",
              "      <td>0.000111</td>\n",
              "      <td>0.007708-0.008073</td>\n",
              "      <td>0.007673-0.008108</td>\n",
              "    </tr>\n",
              "    <tr>\n",
              "      <th>3</th>\n",
              "      <td>100.0</td>\n",
              "      <td>0.50</td>\n",
              "      <td>0.012865</td>\n",
              "      <td>0.026167</td>\n",
              "      <td>0.002617</td>\n",
              "      <td>0.008560-0.017169</td>\n",
              "      <td>0.007736-0.017993</td>\n",
              "    </tr>\n",
              "    <tr>\n",
              "      <th>4</th>\n",
              "      <td>100.0</td>\n",
              "      <td>0.75</td>\n",
              "      <td>0.013578</td>\n",
              "      <td>0.001129</td>\n",
              "      <td>0.000113</td>\n",
              "      <td>0.013392-0.013763</td>\n",
              "      <td>0.013356-0.013799</td>\n",
              "    </tr>\n",
              "    <tr>\n",
              "      <th>5</th>\n",
              "      <td>100.0</td>\n",
              "      <td>1.00</td>\n",
              "      <td>0.020857</td>\n",
              "      <td>0.002099</td>\n",
              "      <td>0.000210</td>\n",
              "      <td>0.020511-0.021202</td>\n",
              "      <td>0.020445-0.021268</td>\n",
              "    </tr>\n",
              "    <tr>\n",
              "      <th>6</th>\n",
              "      <td>300.0</td>\n",
              "      <td>0.10</td>\n",
              "      <td>0.050860</td>\n",
              "      <td>0.026051</td>\n",
              "      <td>0.002605</td>\n",
              "      <td>0.046574-0.055145</td>\n",
              "      <td>0.045754-0.055966</td>\n",
              "    </tr>\n",
              "    <tr>\n",
              "      <th>7</th>\n",
              "      <td>300.0</td>\n",
              "      <td>0.25</td>\n",
              "      <td>0.075518</td>\n",
              "      <td>0.043077</td>\n",
              "      <td>0.004308</td>\n",
              "      <td>0.068431-0.082604</td>\n",
              "      <td>0.067074-0.083960</td>\n",
              "    </tr>\n",
              "    <tr>\n",
              "      <th>8</th>\n",
              "      <td>300.0</td>\n",
              "      <td>0.50</td>\n",
              "      <td>0.096702</td>\n",
              "      <td>0.029007</td>\n",
              "      <td>0.002901</td>\n",
              "      <td>0.091930-0.101474</td>\n",
              "      <td>0.091016-0.102387</td>\n",
              "    </tr>\n",
              "    <tr>\n",
              "      <th>9</th>\n",
              "      <td>300.0</td>\n",
              "      <td>0.75</td>\n",
              "      <td>0.121385</td>\n",
              "      <td>0.002960</td>\n",
              "      <td>0.000296</td>\n",
              "      <td>0.120898-0.121872</td>\n",
              "      <td>0.120804-0.121965</td>\n",
              "    </tr>\n",
              "    <tr>\n",
              "      <th>10</th>\n",
              "      <td>300.0</td>\n",
              "      <td>1.00</td>\n",
              "      <td>0.194599</td>\n",
              "      <td>0.005395</td>\n",
              "      <td>0.000540</td>\n",
              "      <td>0.193711-0.195486</td>\n",
              "      <td>0.193541-0.195656</td>\n",
              "    </tr>\n",
              "    <tr>\n",
              "      <th>11</th>\n",
              "      <td>500.0</td>\n",
              "      <td>0.10</td>\n",
              "      <td>0.128013</td>\n",
              "      <td>0.005117</td>\n",
              "      <td>0.000512</td>\n",
              "      <td>0.127171-0.128854</td>\n",
              "      <td>0.127010-0.129015</td>\n",
              "    </tr>\n",
              "    <tr>\n",
              "      <th>12</th>\n",
              "      <td>500.0</td>\n",
              "      <td>0.25</td>\n",
              "      <td>0.175153</td>\n",
              "      <td>0.038505</td>\n",
              "      <td>0.003851</td>\n",
              "      <td>0.168818-0.181486</td>\n",
              "      <td>0.167605-0.182699</td>\n",
              "    </tr>\n",
              "    <tr>\n",
              "      <th>13</th>\n",
              "      <td>500.0</td>\n",
              "      <td>0.50</td>\n",
              "      <td>0.262112</td>\n",
              "      <td>0.030235</td>\n",
              "      <td>0.003024</td>\n",
              "      <td>0.257138-0.267085</td>\n",
              "      <td>0.256185-0.268037</td>\n",
              "    </tr>\n",
              "    <tr>\n",
              "      <th>14</th>\n",
              "      <td>500.0</td>\n",
              "      <td>0.75</td>\n",
              "      <td>0.365883</td>\n",
              "      <td>0.040088</td>\n",
              "      <td>0.004009</td>\n",
              "      <td>0.359288-0.372477</td>\n",
              "      <td>0.358025-0.373740</td>\n",
              "    </tr>\n",
              "    <tr>\n",
              "      <th>15</th>\n",
              "      <td>500.0</td>\n",
              "      <td>1.00</td>\n",
              "      <td>0.587561</td>\n",
              "      <td>0.031552</td>\n",
              "      <td>0.003155</td>\n",
              "      <td>0.582371-0.592751</td>\n",
              "      <td>0.581377-0.593745</td>\n",
              "    </tr>\n",
              "    <tr>\n",
              "      <th>16</th>\n",
              "      <td>1000.0</td>\n",
              "      <td>0.10</td>\n",
              "      <td>0.521458</td>\n",
              "      <td>0.038373</td>\n",
              "      <td>0.003837</td>\n",
              "      <td>0.515145-0.527770</td>\n",
              "      <td>0.513936-0.528979</td>\n",
              "    </tr>\n",
              "    <tr>\n",
              "      <th>17</th>\n",
              "      <td>1000.0</td>\n",
              "      <td>0.25</td>\n",
              "      <td>0.712875</td>\n",
              "      <td>0.049819</td>\n",
              "      <td>0.004982</td>\n",
              "      <td>0.704679-0.721070</td>\n",
              "      <td>0.703110-0.722639</td>\n",
              "    </tr>\n",
              "    <tr>\n",
              "      <th>18</th>\n",
              "      <td>1000.0</td>\n",
              "      <td>0.50</td>\n",
              "      <td>1.157307</td>\n",
              "      <td>0.112860</td>\n",
              "      <td>0.011286</td>\n",
              "      <td>1.138741-1.175872</td>\n",
              "      <td>1.135186-1.179427</td>\n",
              "    </tr>\n",
              "    <tr>\n",
              "      <th>19</th>\n",
              "      <td>1000.0</td>\n",
              "      <td>0.75</td>\n",
              "      <td>1.551674</td>\n",
              "      <td>0.079771</td>\n",
              "      <td>0.007977</td>\n",
              "      <td>1.538552-1.564796</td>\n",
              "      <td>1.536039-1.567309</td>\n",
              "    </tr>\n",
              "    <tr>\n",
              "      <th>20</th>\n",
              "      <td>1000.0</td>\n",
              "      <td>1.00</td>\n",
              "      <td>2.513662</td>\n",
              "      <td>0.117575</td>\n",
              "      <td>0.011757</td>\n",
              "      <td>2.494320-2.533003</td>\n",
              "      <td>2.490617-2.536706</td>\n",
              "    </tr>\n",
              "  </tbody>\n",
              "</table>\n",
              "</div>"
            ],
            "text/plain": [
              "    Size(V)  Density  ...             %90-CL             %95-CL\n",
              "1     100.0     0.10  ...  0.007522-0.007837  0.007492-0.007867\n",
              "2     100.0     0.25  ...  0.007708-0.008073  0.007673-0.008108\n",
              "3     100.0     0.50  ...  0.008560-0.017169  0.007736-0.017993\n",
              "4     100.0     0.75  ...  0.013392-0.013763  0.013356-0.013799\n",
              "5     100.0     1.00  ...  0.020511-0.021202  0.020445-0.021268\n",
              "6     300.0     0.10  ...  0.046574-0.055145  0.045754-0.055966\n",
              "7     300.0     0.25  ...  0.068431-0.082604  0.067074-0.083960\n",
              "8     300.0     0.50  ...  0.091930-0.101474  0.091016-0.102387\n",
              "9     300.0     0.75  ...  0.120898-0.121872  0.120804-0.121965\n",
              "10    300.0     1.00  ...  0.193711-0.195486  0.193541-0.195656\n",
              "11    500.0     0.10  ...  0.127171-0.128854  0.127010-0.129015\n",
              "12    500.0     0.25  ...  0.168818-0.181486  0.167605-0.182699\n",
              "13    500.0     0.50  ...  0.257138-0.267085  0.256185-0.268037\n",
              "14    500.0     0.75  ...  0.359288-0.372477  0.358025-0.373740\n",
              "15    500.0     1.00  ...  0.582371-0.592751  0.581377-0.593745\n",
              "16   1000.0     0.10  ...  0.515145-0.527770  0.513936-0.528979\n",
              "17   1000.0     0.25  ...  0.704679-0.721070  0.703110-0.722639\n",
              "18   1000.0     0.50  ...  1.138741-1.175872  1.135186-1.179427\n",
              "19   1000.0     0.75  ...  1.538552-1.564796  1.536039-1.567309\n",
              "20   1000.0     1.00  ...  2.494320-2.533003  2.490617-2.536706\n",
              "\n",
              "[20 rows x 7 columns]"
            ]
          },
          "metadata": {
            "tags": []
          },
          "execution_count": 144
        }
      ]
    },
    {
      "cell_type": "code",
      "metadata": {
        "colab": {
          "base_uri": "https://localhost:8080/",
          "height": 323
        },
        "id": "3I5AH7Hlu4rG",
        "outputId": "f475f3a3-d361-4de4-e931-4ebc74001e8a"
      },
      "source": [
        "constant_edge = df_x_100.copy()\r\n",
        "\r\n",
        "constant_edge.plot.line(x = \"Size(V)\", y = \"MeanTime(ms)\")"
      ],
      "execution_count": null,
      "outputs": [
        {
          "output_type": "execute_result",
          "data": {
            "text/plain": [
              "<matplotlib.axes._subplots.AxesSubplot at 0x7fe44edecc18>"
            ]
          },
          "metadata": {
            "tags": []
          },
          "execution_count": 169
        },
        {
          "output_type": "display_data",
          "data": {
            "image/png": "[encoded data removed]",
            "text/plain": [
              "<Figure size 432x288 with 1 Axes>"
            ]
          },
          "metadata": {
            "tags": []
          }
        }
      ]
    },
    {
      "cell_type": "code",
      "metadata": {
        "colab": {
          "base_uri": "https://localhost:8080/",
          "height": 323
        },
        "id": "Vgxtgylp48vK",
        "outputId": "407b4a6d-8cc3-48c2-bb9e-0f22364ceada"
      },
      "source": [
        "vertex_density = df_v_p.copy()\r\n",
        "vertex_density = vertex_density[vertex_density[\"Size(V)\"] == 500]\r\n",
        "\r\n",
        "vertex_density.plot.line(x = \"Density\", y = \"MeanTime(ms)\")"
      ],
      "execution_count": null,
      "outputs": [
        {
          "output_type": "execute_result",
          "data": {
            "text/plain": [
              "<matplotlib.axes._subplots.AxesSubplot at 0x7fe430d10898>"
            ]
          },
          "metadata": {
            "tags": []
          },
          "execution_count": 202
        },
        {
          "output_type": "display_data",
          "data": {
            "image/png": "[encoded data removed]",
            "text/plain": [
              "<Figure size 432x288 with 1 Axes>"
            ]
          },
          "metadata": {
            "tags": []
          }
        }
      ]
    }
  ]
}